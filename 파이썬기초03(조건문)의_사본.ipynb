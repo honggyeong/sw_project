{
  "nbformat": 4,
  "nbformat_minor": 0,
  "metadata": {
    "colab": {
      "provenance": [],
      "include_colab_link": true
    },
    "kernelspec": {
      "name": "python3",
      "display_name": "Python 3"
    },
    "language_info": {
      "name": "python"
    }
  },
  "cells": [
    {
      "cell_type": "markdown",
      "metadata": {
        "id": "view-in-github",
        "colab_type": "text"
      },
      "source": [
        "<a href=\"https://colab.research.google.com/github/honggyeong/sw_project/blob/main/%ED%8C%8C%EC%9D%B4%EC%8D%AC%EA%B8%B0%EC%B4%8803(%EC%A1%B0%EA%B1%B4%EB%AC%B8)%EC%9D%98_%EC%82%AC%EB%B3%B8.ipynb\" target=\"_parent\"><img src=\"https://colab.research.google.com/assets/colab-badge.svg\" alt=\"Open In Colab\"/></a>"
      ]
    },
    {
      "cell_type": "markdown",
      "source": [
        "**Chapter 3. 조건문**  \n",
        "\n",
        "* if   \n",
        "  - if 조건 다음에 :를 붙인다.\n",
        "  - if문 내에 명령문들은 들여쓰기를 해준다.(공백4칸, 또는 2칸, 일정하게 사용할 것)\n",
        "* if ~ else  \n",
        "  - 조건이 참인 경우에 지정한 문장을 실행하고, 거짓인 경우에는 else 다음 문장을 실행한다.\n",
        "* if ~ elif ~ else\n",
        "  - 조건에 따른 분기가 3개일 경우 사용.\n",
        "  - 첫번째 조건에 맞지 않는 경우, 2번째 조건을 검사하며, 두 조건 모두 거짓일 경우 else다음 문장을 실행한다.   "
      ],
      "metadata": {
        "id": "EymWfLHyjUmc"
      }
    },
    {
      "cell_type": "markdown",
      "source": [
        "[실습1] a에 10을 저장 한 후 if문을 사용하여 a가 0보다 크면 양의 정수, 0보다 작으면 음의 정수라고 출력하는 코드를 작성하라."
      ],
      "metadata": {
        "id": "HFnHxbYTjqSl"
      }
    },
    {
      "cell_type": "code",
      "source": [
        "a=10\n",
        "if"
      ],
      "metadata": {
        "id": "-Dzr8SoPxSF2"
      },
      "execution_count": null,
      "outputs": []
    },
    {
      "cell_type": "markdown",
      "source": [
        "[실습2] 정수를 입력받아 변수 a에 저장한 후 a가 0보다 크면 'a는 ~ 이다. a는  양의 정수', 그렇지 않으면 'a는 ~이다. 음의 정수'라고 출력하는 코드를 작성하라."
      ],
      "metadata": {
        "id": "J0mq0VeXfHs-"
      }
    },
    {
      "cell_type": "code",
      "source": [],
      "metadata": {
        "id": "yD86M66BfXNF"
      },
      "execution_count": null,
      "outputs": []
    },
    {
      "cell_type": "markdown",
      "source": [
        "[실습3] 정수를 입력받아 변수 a에 저장한 후 a가 0보다 크면 'a는 ~ 이다. a는  양의 정수', 0이면 '~는 0이다.'그렇지 않으면 'a는 ~이다. 음의 정수'라고 출력하는 코드를 작성하라."
      ],
      "metadata": {
        "id": "nKARzQMEfQJE"
      }
    },
    {
      "cell_type": "code",
      "source": [],
      "metadata": {
        "id": "MVEhbb9bfVAB"
      },
      "execution_count": null,
      "outputs": []
    },
    {
      "cell_type": "markdown",
      "source": [
        "[실습4] 숫자 3개를 입력 받아 가장 큰수를 출력하시오."
      ],
      "metadata": {
        "id": "Mil7P2LTfQS0"
      }
    },
    {
      "cell_type": "code",
      "source": [],
      "metadata": {
        "id": "o3YoijymfXxu"
      },
      "execution_count": null,
      "outputs": []
    },
    {
      "cell_type": "markdown",
      "source": [
        "**Chapter 4. 반복문**  \n",
        "\n",
        "* if   \n",
        "  - if 조건 다음에 :를 붙인다.\n",
        "  - if문 내에 명령문들은 들여쓰기를 해준다.(공백4칸, 또는 2칸, 일정하게 사용할 것)\n",
        "* if ~ else  \n",
        "  - 조건이 참인 경우에 지정한 문장을 실행하고, 거짓인 경우에는 else 다음 문장을 실행한다.\n",
        "* if ~ elif ~ else\n",
        "  - 조건에 따른 분기가 3개일 경우 사용.\n",
        "  - 첫번째 조건에 맞지 않는 경우, 2번째 조건을 검사하며, 두 조건 모두 거짓일 경우 else다음 문장을 실행한다.   "
      ],
      "metadata": {
        "id": "bd0Vww9mjBBl"
      }
    },
    {
      "cell_type": "markdown",
      "source": [
        "[실습5] if문을 사용하여 a에 10을 저장 한 후 a가 0보다 크면 양의 정수, 0보다 작으면 음의 정수라고 출력하는 코드를 작성하라."
      ],
      "metadata": {
        "id": "I1klVVTNfQad"
      }
    },
    {
      "cell_type": "code",
      "source": [],
      "metadata": {
        "id": "JMlTuxVmfYMY"
      },
      "execution_count": null,
      "outputs": []
    },
    {
      "cell_type": "markdown",
      "source": [
        "[실습6] if문을 사용하여 a에 10을 저장 한 후 a가 0보다 크면 양의 정수, 0보다 작으면 음의 정수라고 출력하는 코드를 작성하라."
      ],
      "metadata": {
        "id": "x2NdY_K0fQg4"
      }
    },
    {
      "cell_type": "code",
      "source": [],
      "metadata": {
        "id": "2-Y0uXoMfZd3"
      },
      "execution_count": null,
      "outputs": []
    },
    {
      "cell_type": "markdown",
      "source": [
        "[실습7] if문을 사용하여 a에 10을 저장 한 후 a가 0보다 크면 양의 정수, 0보다 작으면 음의 정수라고 출력하는 코드를 작성하라."
      ],
      "metadata": {
        "id": "kHEuLaJefQl2"
      }
    },
    {
      "cell_type": "code",
      "source": [],
      "metadata": {
        "id": "CXIcIfK3faLZ"
      },
      "execution_count": null,
      "outputs": []
    },
    {
      "cell_type": "markdown",
      "source": [
        "[실습8] if문을 사용하여 a에 10을 저장 한 후 a가 0보다 크면 양의 정수, 0보다 작으면 음의 정수라고 출력하는 코드를 작성하라."
      ],
      "metadata": {
        "id": "UClkmsjxfQvZ"
      }
    },
    {
      "cell_type": "code",
      "source": [],
      "metadata": {
        "id": "O8uuDblZfa1k"
      },
      "execution_count": null,
      "outputs": []
    },
    {
      "cell_type": "markdown",
      "source": [
        "[실습9] if문을 사용하여 a에 10을 저장 한 후 a가 0보다 크면 양의 정수, 0보다 작으면 음의 정수라고 출력하는 코드를 작성하라."
      ],
      "metadata": {
        "id": "HoQG0ZwffQ3o"
      }
    },
    {
      "cell_type": "code",
      "source": [],
      "metadata": {
        "id": "t0_aNMIrfbYF"
      },
      "execution_count": null,
      "outputs": []
    },
    {
      "cell_type": "markdown",
      "source": [
        "[실습10] if문을 사용하여 a에 10을 저장 한 후 a가 0보다 크면 양의 정수, 0보다 작으면 음의 정수라고 출력하는 코드를 작성하라."
      ],
      "metadata": {
        "id": "SDViFv5LfQ9j"
      }
    },
    {
      "cell_type": "code",
      "source": [],
      "metadata": {
        "id": "BLKgcdgBfb55"
      },
      "execution_count": null,
      "outputs": []
    },
    {
      "cell_type": "markdown",
      "source": [
        "[실습2] if문을 사용하여 a에 10을 저장 한 후 a가 0보다 크면 양의 정수, 0보다 작으면 음의 정수라고 출력하는 코드를 작성하라."
      ],
      "metadata": {
        "id": "qET_Hs3PfRCv"
      }
    },
    {
      "cell_type": "code",
      "source": [],
      "metadata": {
        "id": "V2qwWGsIfcT2"
      },
      "execution_count": null,
      "outputs": []
    },
    {
      "cell_type": "markdown",
      "source": [
        "[실습2] if문을 사용하여 a에 10을 저장 한 후 a가 0보다 크면 양의 정수, 0보다 작으면 음의 정수라고 출력하는 코드를 작성하라."
      ],
      "metadata": {
        "id": "R22EOydOfRHg"
      }
    },
    {
      "cell_type": "code",
      "source": [],
      "metadata": {
        "id": "ITo259MWfcvl"
      },
      "execution_count": null,
      "outputs": []
    },
    {
      "cell_type": "markdown",
      "source": [
        "[실습2] if문을 사용하여 a에 10을 저장 한 후 a가 0보다 크면 양의 정수, 0보다 작으면 음의 정수라고 출력하는 코드를 작성하라."
      ],
      "metadata": {
        "id": "14Duvq9cfRMe"
      }
    },
    {
      "cell_type": "code",
      "source": [],
      "metadata": {
        "id": "C5hA82VCfMhn"
      },
      "execution_count": null,
      "outputs": []
    }
  ]
}