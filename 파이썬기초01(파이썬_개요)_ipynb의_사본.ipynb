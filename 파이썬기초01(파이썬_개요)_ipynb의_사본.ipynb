{
  "nbformat": 4,
  "nbformat_minor": 0,
  "metadata": {
    "colab": {
      "provenance": [],
      "include_colab_link": true
    },
    "kernelspec": {
      "name": "python3",
      "display_name": "Python 3"
    },
    "language_info": {
      "name": "python"
    }
  },
  "cells": [
    {
      "cell_type": "markdown",
      "metadata": {
        "id": "view-in-github",
        "colab_type": "text"
      },
      "source": [
        "<a href=\"https://colab.research.google.com/github/honggyeong/sw_project/blob/main/%ED%8C%8C%EC%9D%B4%EC%8D%AC%EA%B8%B0%EC%B4%8801(%ED%8C%8C%EC%9D%B4%EC%8D%AC_%EA%B0%9C%EC%9A%94)_ipynb%EC%9D%98_%EC%82%AC%EB%B3%B8.ipynb\" target=\"_parent\"><img src=\"https://colab.research.google.com/assets/colab-badge.svg\" alt=\"Open In Colab\"/></a>"
      ]
    },
    {
      "cell_type": "markdown",
      "source": [
        "**Chapter 1. 파이썬 개발 환경 구축**  \n",
        "\n",
        "* 파이썬의 특징   \n",
        "  - 1990년 네덜란드 개발자 귀도 반 로썸이 개발한 프로그래밍 언어\n",
        "  - 구글에서 만든 소프트웨어의 50%이상이 파이썬으로 작성  \n",
        "  - 인터프리터 언어: 한 번에 한 줄씩 코드가 실행되어 결과를 바로 확인할 수 있는 대화형 언어  \n",
        "  - 간결한 코드, 높은 가독성, 다른 언어와 연결이 쉬움, 객체지향언어  \n",
        "  - 다양한 라이브러리 제공(Numpy, Pandas...)  \n",
        "  \n",
        "* 구글 코랩(colab) 실행하기  \n",
        "  - [구글 드라이브]-[새로만들기]-[더보기]-[Google Colaboratory]  \n",
        "  - 설치가 안 된 경우: [더보기]-[연결할 앱 더보기]-코랩 추가(연결하기)  \n",
        "* 파일 이름 변경: OOO.ipynb  \n",
        "* 셀(Cell) 구분  \n",
        "  1) 코드 셀(code Cell): 프로그래밍 언어를 작성하고 실행하는 영역  \n",
        "  2) 텍스트 셀(Text Cell):코드에 대한 설명, 제목, 이미지 등을 작성할 수 있는 영역(문단 구분: 행 끝에 공백 2칸 입력)  \n",
        "  \n",
        "* 코드 실행 단축키  \n",
        "  1) 셀 실행: Ctrl+Enter  \n",
        "  2) 셀 실행 후 다음 셀로 이동: Alt+Enter  \n",
        "  \n",
        "* 코랩의 특징\n",
        "  - 수정 내용은 구글 드라이브에 자동 저장(구글 계정 필요)  \n",
        "  - 구글 드라이브(클라우드)에서 실행\n",
        "\n",
        "* 파일 공유하기  \n",
        "  - 사용자 및 그룹 추가: 이메일 입력(_________@gmail.com)  \n",
        "  - 일반 액세스: 링크가 있는 모든 사용자/뷰어\n",
        "  - [링크 복사]- 다른 창에 공유\n",
        "\n",
        "* 파이썬에서 주석(설명) 처리: #,   /*  내용  */  \n",
        "* 전체코드 실행: [런타임]-[모두 실행]  "
      ],
      "metadata": {
        "id": "EymWfLHyjUmc"
      }
    },
    {
      "cell_type": "markdown",
      "source": [
        "[실습1] 다음 행에 텍스트 셀을 만들고 파이썬 언어의 장점과 단점을 요약해서 적어보자."
      ],
      "metadata": {
        "id": "HFnHxbYTjqSl"
      }
    },
    {
      "cell_type": "markdown",
      "source": [
        "장점:쉽고 간결한 문법, 무료로 이용 가능, 직관적이고 가독성이 뛰어남, 동적 타이핑, 풍부한 라이브러리, 빠른 개발속도, 다양한 운영 체제에서 실행 가능. 인공지능, 데이터분석, 시각화, 영상처리, 웹, 게임 등 다양한 분야의 응용프로그램을 빠르게 개발<br>\n",
        "주피터노트북, 파이참, 서브라임 텍스트 등 다양한 개발 환경.\n",
        "\n",
        "단점:느린 연산 속도, 모바일 기기에서 활용이 어려움"
      ],
      "metadata": {
        "id": "erVdWnEwjw8G"
      }
    },
    {
      "cell_type": "code",
      "execution_count": null,
      "metadata": {
        "id": "N3ZyYI9nx_s4",
        "colab": {
          "base_uri": "https://localhost:8080/"
        },
        "outputId": "97325d2a-8b6e-4958-ca2c-713d6f54afac"
      },
      "outputs": [
        {
          "output_type": "stream",
          "name": "stdout",
          "text": [
            "hello world\n"
          ]
        }
      ],
      "source": [
        "print(\"hello world\")   #따옴표 안에 hellp world를 출력"
      ]
    },
    {
      "cell_type": "code",
      "source": [
        "print(123)"
      ],
      "metadata": {
        "colab": {
          "base_uri": "https://localhost:8080/"
        },
        "id": "RRjnIx5z0MlZ",
        "outputId": "ffdd2942-2836-4f4f-f2d6-c28a27356c57"
      },
      "execution_count": null,
      "outputs": [
        {
          "output_type": "stream",
          "name": "stdout",
          "text": [
            "123\n"
          ]
        }
      ]
    },
    {
      "cell_type": "code",
      "source": [
        "print(type(123))"
      ],
      "metadata": {
        "colab": {
          "base_uri": "https://localhost:8080/"
        },
        "id": "DtqKvHDe1dbT",
        "outputId": "b112929b-e869-44b5-c7d0-b8fc64f9fb58"
      },
      "execution_count": null,
      "outputs": [
        {
          "output_type": "stream",
          "name": "stdout",
          "text": [
            "<class 'int'>\n"
          ]
        }
      ]
    },
    {
      "cell_type": "code",
      "source": [
        "print(123.34)"
      ],
      "metadata": {
        "colab": {
          "base_uri": "https://localhost:8080/"
        },
        "id": "6wSUhvZ-1fpN",
        "outputId": "9028364a-0c02-4ba8-b076-aad1f7a38318"
      },
      "execution_count": null,
      "outputs": [
        {
          "output_type": "stream",
          "name": "stdout",
          "text": [
            "123.34\n"
          ]
        }
      ]
    },
    {
      "cell_type": "code",
      "source": [
        "print(\"123\")"
      ],
      "metadata": {
        "colab": {
          "base_uri": "https://localhost:8080/"
        },
        "id": "efe3UEZW1lEd",
        "outputId": "22a3db33-1321-4223-b71c-d3d3767fd373"
      },
      "execution_count": null,
      "outputs": [
        {
          "output_type": "stream",
          "name": "stdout",
          "text": [
            "123\n"
          ]
        }
      ]
    },
    {
      "cell_type": "code",
      "source": [
        "print(type(\"123\"))"
      ],
      "metadata": {
        "colab": {
          "base_uri": "https://localhost:8080/"
        },
        "id": "ZTSDbqrC1mkO",
        "outputId": "03acd98f-4385-4df9-b506-e0464e1655df"
      },
      "execution_count": null,
      "outputs": [
        {
          "output_type": "stream",
          "name": "stdout",
          "text": [
            "<class 'str'>\n"
          ]
        }
      ]
    },
    {
      "cell_type": "code",
      "source": [
        "print(type(123.34))"
      ],
      "metadata": {
        "colab": {
          "base_uri": "https://localhost:8080/"
        },
        "id": "HOmZTMrn1rJu",
        "outputId": "3c41d967-4475-42f2-f60f-c87d1a436037"
      },
      "execution_count": null,
      "outputs": [
        {
          "output_type": "stream",
          "name": "stdout",
          "text": [
            "<class 'float'>\n"
          ]
        }
      ]
    },
    {
      "cell_type": "code",
      "source": [
        "print(파이썬)"
      ],
      "metadata": {
        "colab": {
          "base_uri": "https://localhost:8080/",
          "height": 147
        },
        "id": "ThKqp1WK2T4e",
        "outputId": "2845c76f-75b2-4732-dd8b-70a957293ca6"
      },
      "execution_count": null,
      "outputs": [
        {
          "output_type": "error",
          "ename": "NameError",
          "evalue": "name '파이썬' is not defined",
          "traceback": [
            "\u001b[0;31m---------------------------------------------------------------------------\u001b[0m",
            "\u001b[0;31mNameError\u001b[0m                                 Traceback (most recent call last)",
            "\u001b[0;32m<ipython-input-2-a76461397fb0>\u001b[0m in \u001b[0;36m<cell line: 0>\u001b[0;34m()\u001b[0m\n\u001b[0;32m----> 1\u001b[0;31m \u001b[0mprint\u001b[0m\u001b[0;34m(\u001b[0m\u001b[0m파이썬\u001b[0m\u001b[0;34m)\u001b[0m\u001b[0;34m\u001b[0m\u001b[0;34m\u001b[0m\u001b[0m\n\u001b[0m",
            "\u001b[0;31mNameError\u001b[0m: name '파이썬' is not defined"
          ]
        }
      ]
    },
    {
      "cell_type": "code",
      "source": [
        "print(\"파이썬\")"
      ],
      "metadata": {
        "colab": {
          "base_uri": "https://localhost:8080/"
        },
        "id": "1-ptiKSt226U",
        "outputId": "c87ebf53-645c-4a60-e89b-3519fffadfc0"
      },
      "execution_count": null,
      "outputs": [
        {
          "output_type": "stream",
          "name": "stdout",
          "text": [
            "파이썬\n"
          ]
        }
      ]
    },
    {
      "cell_type": "code",
      "source": [
        "print(\"아빠가\"+\"방에\"+\"들어가셨어\")"
      ],
      "metadata": {
        "colab": {
          "base_uri": "https://localhost:8080/"
        },
        "id": "xqQzBP0k24er",
        "outputId": "15c3fe08-ec8a-4f1c-dd5e-fda95fd6eb21"
      },
      "execution_count": null,
      "outputs": [
        {
          "output_type": "stream",
          "name": "stdout",
          "text": [
            "아빠가방에들어가셨어\n"
          ]
        }
      ]
    },
    {
      "cell_type": "code",
      "source": [
        "print(\"아빠가\",\"방에\",\"들어가셨어\")"
      ],
      "metadata": {
        "colab": {
          "base_uri": "https://localhost:8080/"
        },
        "id": "H9bnXur-3CBo",
        "outputId": "3647ce8b-4fea-41ce-b136-529680421efc"
      },
      "execution_count": null,
      "outputs": [
        {
          "output_type": "stream",
          "name": "stdout",
          "text": [
            "아빠가 방에 들어가셨어\n"
          ]
        }
      ]
    },
    {
      "cell_type": "code",
      "source": [
        "print(20+24)"
      ],
      "metadata": {
        "colab": {
          "base_uri": "https://localhost:8080/"
        },
        "id": "-09wCd1d3NwT",
        "outputId": "d23419b2-9af5-4abd-ac6d-9e745451b3aa"
      },
      "execution_count": null,
      "outputs": [
        {
          "output_type": "stream",
          "name": "stdout",
          "text": [
            "44\n"
          ]
        }
      ]
    },
    {
      "cell_type": "code",
      "source": [
        "print(\"20+44\")"
      ],
      "metadata": {
        "colab": {
          "base_uri": "https://localhost:8080/"
        },
        "id": "-qj0jCqS3Tmq",
        "outputId": "b281311e-4107-498f-fab0-9160dc8937bb"
      },
      "execution_count": null,
      "outputs": [
        {
          "output_type": "stream",
          "name": "stdout",
          "text": [
            "20+44\n"
          ]
        }
      ]
    },
    {
      "cell_type": "code",
      "source": [
        "print(\"20\"+\"24\")"
      ],
      "metadata": {
        "colab": {
          "base_uri": "https://localhost:8080/"
        },
        "id": "vH1Y2UwK3Ybs",
        "outputId": "fc84b3aa-8404-48a8-cc6d-e28f9c69dcb0"
      },
      "execution_count": null,
      "outputs": [
        {
          "output_type": "stream",
          "name": "stdout",
          "text": [
            "2024\n"
          ]
        }
      ]
    },
    {
      "cell_type": "code",
      "source": [
        "print(20.1, 24)"
      ],
      "metadata": {
        "colab": {
          "base_uri": "https://localhost:8080/"
        },
        "id": "xAPelJXJ3bya",
        "outputId": "3d5d3d57-337d-4128-fea7-f0ff4c450d72"
      },
      "execution_count": null,
      "outputs": [
        {
          "output_type": "stream",
          "name": "stdout",
          "text": [
            "20.1 24\n"
          ]
        }
      ]
    },
    {
      "cell_type": "code",
      "source": [
        "print(20+\"파이선\")"
      ],
      "metadata": {
        "colab": {
          "base_uri": "https://localhost:8080/",
          "height": 147
        },
        "id": "fWmzwynN3gCi",
        "outputId": "50566b2a-4f4e-45a8-cd38-e518cabc05b7"
      },
      "execution_count": null,
      "outputs": [
        {
          "output_type": "error",
          "ename": "TypeError",
          "evalue": "unsupported operand type(s) for +: 'int' and 'str'",
          "traceback": [
            "\u001b[0;31m---------------------------------------------------------------------------\u001b[0m",
            "\u001b[0;31mTypeError\u001b[0m                                 Traceback (most recent call last)",
            "\u001b[0;32m<ipython-input-19-fdda2c5a5123>\u001b[0m in \u001b[0;36m<cell line: 1>\u001b[0;34m()\u001b[0m\n\u001b[0;32m----> 1\u001b[0;31m \u001b[0mprint\u001b[0m\u001b[0;34m(\u001b[0m\u001b[0;36m20\u001b[0m\u001b[0;34m+\u001b[0m\u001b[0;34m\"파이선\"\u001b[0m\u001b[0;34m)\u001b[0m\u001b[0;34m\u001b[0m\u001b[0;34m\u001b[0m\u001b[0m\n\u001b[0m",
            "\u001b[0;31mTypeError\u001b[0m: unsupported operand type(s) for +: 'int' and 'str'"
          ]
        }
      ]
    },
    {
      "cell_type": "code",
      "source": [
        "print(20, \"파이선\")"
      ],
      "metadata": {
        "colab": {
          "base_uri": "https://localhost:8080/"
        },
        "id": "c39e-WSz3kcc",
        "outputId": "b6bb1855-d145-4b39-9d9e-c8869e1332bc"
      },
      "execution_count": null,
      "outputs": [
        {
          "output_type": "stream",
          "name": "stdout",
          "text": [
            "20 파이선\n"
          ]
        }
      ]
    },
    {
      "cell_type": "code",
      "source": [
        "a=10\n",
        "b=\"가나다\"\n",
        "print(a)\n",
        "print(b)\n",
        "a = a + 12\n",
        "b = b + '마바사'\n",
        "print(b)\n",
        "print('최종 a 값은', a,'최종 b 값은', b,'이다.')\n"
      ],
      "metadata": {
        "id": "1v5AP-MB3uDU",
        "colab": {
          "base_uri": "https://localhost:8080/"
        },
        "outputId": "fcf4e277-09b0-4e2f-8268-ec46c38d41f0"
      },
      "execution_count": null,
      "outputs": [
        {
          "output_type": "stream",
          "name": "stdout",
          "text": [
            "10\n",
            "가나다\n",
            "가나다마바사\n",
            "최종 a 값은 22 최종 b 값은 가나다마바사 이다.\n"
          ]
        }
      ]
    },
    {
      "cell_type": "code",
      "source": [
        "name = '수빈'\n",
        "height = 185.4\n",
        "age = 23\n",
        "hobby = 'dancing'\n",
        "print(name, height, age, hobby)"
      ],
      "metadata": {
        "id": "kKSkwZFn86SM",
        "colab": {
          "base_uri": "https://localhost:8080/"
        },
        "outputId": "41746c0d-0781-45a5-a3f4-52f06f394bb1"
      },
      "execution_count": null,
      "outputs": [
        {
          "output_type": "stream",
          "name": "stdout",
          "text": [
            "수빈 185.4 23 dancing\n"
          ]
        }
      ]
    },
    {
      "cell_type": "code",
      "source": [
        "name = '수빈'\n",
        "height = 185.4\n",
        "age = 23\n",
        "hobby = 'dancing'\n",
        "print(name, ': 키는', height, '나이는', age, '취미는', hobby, '입니다!')\n",
        "name = '선호'\n",
        "height = 183\n",
        "age = 19\n",
        "hobby = '영화감상'\n",
        "print(name, ': 키는', height, '나이는', age, '취미는', hobby, '입니다!')"
      ],
      "metadata": {
        "colab": {
          "base_uri": "https://localhost:8080/"
        },
        "id": "ozQiGfoY3M6R",
        "outputId": "d3468b25-4fd7-4412-d7d4-dbbadab89e44"
      },
      "execution_count": null,
      "outputs": [
        {
          "output_type": "stream",
          "name": "stdout",
          "text": [
            "수빈 : 키는 185.4 나이는 23 취미는 dancing 입니다!\n",
            "선호 : 키는 183 나이는 19 취미는 영화감상 입니다!\n"
          ]
        }
      ]
    },
    {
      "cell_type": "code",
      "source": [
        "p = 3.141592\n",
        "r=5\n",
        "result = p*r**2\n",
        "print('반지름 :', r, '\\n원의 넓이 :', result)"
      ],
      "metadata": {
        "colab": {
          "base_uri": "https://localhost:8080/"
        },
        "id": "b5IBG9Qw3zMK",
        "outputId": "87999bfa-916c-4220-c2ef-d23bf42da271"
      },
      "execution_count": null,
      "outputs": [
        {
          "output_type": "stream",
          "name": "stdout",
          "text": [
            "반지름 : 5 \n",
            "원의 넓이 : 78.5398\n"
          ]
        }
      ]
    },
    {
      "cell_type": "code",
      "source": [
        "a = input('숫자 입력:')\n",
        "print(a)"
      ],
      "metadata": {
        "colab": {
          "base_uri": "https://localhost:8080/"
        },
        "id": "nCdTL0A04OxM",
        "outputId": "ed233985-23f9-450e-f6e3-4b8f8c9e66f7"
      },
      "execution_count": null,
      "outputs": [
        {
          "output_type": "stream",
          "name": "stdout",
          "text": [
            "숫자 입력:12\n",
            "12\n"
          ]
        }
      ]
    },
    {
      "cell_type": "code",
      "source": [
        "print('수빈이의 나이를 입력하세요.')\n",
        "age1 = input()\n",
        "age2 = input('선호의 나이를 입력하세요.')\n",
        "sum = age1 + age2\n",
        "print('두 사람 나이 합은 '+sum+'입니다.')\n",
        "age1 = int(age1)\n",
        "age2 = int(age2)\n",
        "sum = age1 + age2\n",
        "print('두 사람 나이 합은', sum, '입니다.')"
      ],
      "metadata": {
        "colab": {
          "base_uri": "https://localhost:8080/"
        },
        "id": "7FrVXn0Z6dYJ",
        "outputId": "fc6faa6d-a78c-4895-a42d-7a5718dcf34f"
      },
      "execution_count": null,
      "outputs": [
        {
          "output_type": "stream",
          "name": "stdout",
          "text": [
            "수빈이의 나이를 입력하세요.\n",
            "13\n",
            "선호의 나이를 입력하세요.12\n",
            "두 사람 나이 합은 1312입니다.\n",
            "두 사람 나이 합은 25 입니다.\n"
          ]
        }
      ]
    },
    {
      "cell_type": "code",
      "source": [
        "p = 3.141592\n",
        "\n",
        "r = int(input('원의 반지름은?'))\n",
        "\n",
        "result = p*r**2\n",
        "\n",
        "print('원의 넓이는', result,'입니다.')"
      ],
      "metadata": {
        "colab": {
          "base_uri": "https://localhost:8080/"
        },
        "id": "a805P1Ib7Mw-",
        "outputId": "a9f5f288-373e-4032-8c44-e26e37e4dfd3"
      },
      "execution_count": null,
      "outputs": [
        {
          "output_type": "stream",
          "name": "stdout",
          "text": [
            "원의 반지름은?5\n",
            "원의 넓이는 78.5398 입니다.\n"
          ]
        }
      ]
    },
    {
      "cell_type": "code",
      "source": [
        "p = 3.141592\n",
        "\n",
        "r = int(input('원의 반지름은?'))   #실수(소수점) 값을 입력해 보\n",
        "\n",
        "result = p*r**2\n",
        "\n",
        "print('원의 넓이는', result,'입니다.')"
      ],
      "metadata": {
        "id": "qyuuPjv_7pkU"
      },
      "execution_count": null,
      "outputs": []
    },
    {
      "cell_type": "markdown",
      "source": [
        "[실습2] 변수 a,b에 각각 50, 20을 저장하고 변수 c에 두개의 값을 저장 한후 출력하는 코드를 작성하여라."
      ],
      "metadata": {
        "id": "t5Fbm77Ecr6Z"
      }
    },
    {
      "cell_type": "code",
      "source": [],
      "metadata": {
        "id": "k8EMmZGSdHG_"
      },
      "execution_count": null,
      "outputs": []
    },
    {
      "cell_type": "markdown",
      "source": [
        "[실습3] 변수 a,b에 각각 50, 20을 저장하고 변수 c에 두개의 값을 저장 한후 출력하는 코드를 작성하여라."
      ],
      "metadata": {
        "id": "mFm3I3RAdONw"
      }
    }
  ]
}