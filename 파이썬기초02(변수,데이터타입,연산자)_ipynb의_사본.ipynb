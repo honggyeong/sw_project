{
  "nbformat": 4,
  "nbformat_minor": 0,
  "metadata": {
    "colab": {
      "provenance": [],
      "include_colab_link": true
    },
    "kernelspec": {
      "name": "python3",
      "display_name": "Python 3"
    },
    "language_info": {
      "name": "python"
    }
  },
  "cells": [
    {
      "cell_type": "markdown",
      "metadata": {
        "id": "view-in-github",
        "colab_type": "text"
      },
      "source": [
        "<a href=\"https://colab.research.google.com/github/honggyeong/sw_project/blob/main/%ED%8C%8C%EC%9D%B4%EC%8D%AC%EA%B8%B0%EC%B4%8802(%EB%B3%80%EC%88%98%2C%EB%8D%B0%EC%9D%B4%ED%84%B0%ED%83%80%EC%9E%85%2C%EC%97%B0%EC%82%B0%EC%9E%90)_ipynb%EC%9D%98_%EC%82%AC%EB%B3%B8.ipynb\" target=\"_parent\"><img src=\"https://colab.research.google.com/assets/colab-badge.svg\" alt=\"Open In Colab\"/></a>"
      ]
    },
    {
      "cell_type": "markdown",
      "source": [
        "**Chapter 2. 변수, 데이터타입, 연산자**  \n",
        "\n",
        "* 변수\n",
        "  - 선언없이 사용 가능, 저장을 위한 메모리 공간.\n",
        "  - 다양한 데이터타입 지원\n",
        "  - 대입 연산자를 사용(=)\n",
        "  - 변수의 값은 언제든 변경 가능\n",
        "  - 변수명은 영문자, 숫자, 언더바(_) 사용 가능, 첫글자는 영문자"
      ],
      "metadata": {
        "id": "Wbsa6Eb6lCCx"
      }
    },
    {
      "cell_type": "markdown",
      "source": [
        "[실습1] 다음 행에 코드 셀을 만들고 인사말을 출력하는 코드를 작성하여 실행해 보자. 예) print(\"안녕\")"
      ],
      "metadata": {
        "id": "QGad0QlPlpCi"
      }
    },
    {
      "cell_type": "markdown",
      "source": [
        "* 데이터타입(자료형)\n",
        "  - 숫자형: 정수형, 실수형(e는 10의 거듭제곱, e2는 10의2제곱)\n",
        "  - 문자열형:'안녕', '100' (따옴표가 있으면 문자이다.)\n",
        "  - 리스트형:[1,2,3,4,5],['a','b','c']\n",
        "  - 튜플형: (1,2,3),('a','b',('aa','bb'))\n",
        "  - 딕셔너리형: {'nation':'대한민국','city':'서울']\n",
        "  - 집합형: {4,5,6}, {'a','b','c'}\n",
        "  - 논리형: True, False\n"
      ],
      "metadata": {
        "id": "mAR3qPJZl6KL"
      }
    },
    {
      "cell_type": "markdown",
      "source": [
        "* 문자열에 대해 더 자세히 알아보자.\n",
        " - 문자열: 문자, 단어 등으로 구성된 문자들의 집합    \n",
        " - 문자열 사용법: 큰따옴표(\"\"), 작은 따옴표('')  \n",
        "  \"Hello\", 'python'  \n",
        " - 문자열 내에 여러 줄의 문장 처리: \\n (이스케이프 코드)  \n",
        " - 문자열 자료형 변환  \n",
        "  a='123'  \n",
        "  b='3.14'  \n",
        "  c=100  \n",
        "  print(int(a))      # 정수형으로 변환해서 출력  \n",
        "  print(float(b))    # 실수형으로 변환해서 출력  \n",
        "  print(int(b))      # 출력 결과는?  \n",
        "  print(str(c))      # 문자형으로 변환해서 출력  \n",
        "\n",
        " - 자료 입력 받기: input()  \n",
        "  a=input()      \n",
        "  print(a)  \n",
        "  print(type(a))   # str, 문자형\n",
        " - 입력받은 값을 정수형으로 변환: a=int(input())  \n",
        "\n",
        " - 문자열 연산하기  \n",
        "  1) 문자열 더해서 연결하기  \n",
        "      title=\"이름: \"  \n",
        "      name=\"홍길동\"  \n",
        "      print(title+name)  \n",
        "  2) 문자열 반복하기  \n",
        "      a=\"hello \"  \n",
        "      print(a*3)  \n",
        "        \n",
        "      line=\"=\"*60  \n",
        "      print(line)  \n",
        "      print(\"이 또한 지나가리라 -랜트 월슨 스미스 -\")  \n",
        "      print(line)    \n",
        "     \n",
        " - 문자열의 길이를 구하는 함수: len()  \n",
        "\n",
        "    w=\"Life is too short\"  \n",
        "\n",
        "    print(len(w))  # 공백까지 포함한 문자수 출력"
      ],
      "metadata": {
        "id": "1G4gXN2-3tJO"
      }
    },
    {
      "cell_type": "markdown",
      "source": [
        "[실습2] 사용자의 이름(OOO)을 입력받아서 \"OOO입니다\"라고 출력하는 프로그램을 작성해 보자."
      ],
      "metadata": {
        "id": "nlNccY4Y5T6z"
      }
    },
    {
      "cell_type": "code",
      "source": [
        "name = input('이름을 입력하세요')\n",
        "print(name+'입니다')"
      ],
      "metadata": {
        "id": "Hk0JAq5J3sdg",
        "colab": {
          "base_uri": "https://localhost:8080/"
        },
        "outputId": "57e2a9f7-c7cc-4711-e2b3-02be7ed0e985"
      },
      "execution_count": 1,
      "outputs": [
        {
          "output_type": "stream",
          "name": "stdout",
          "text": [
            "이름을 입력하세요s\n",
            "s입니다\n"
          ]
        }
      ]
    },
    {
      "cell_type": "markdown",
      "source": [
        "[실습3] 문자열을 입력받아서 길이를 출력하는 프로그램을 작성해보자."
      ],
      "metadata": {
        "id": "QnHAVBi85onv"
      }
    },
    {
      "cell_type": "code",
      "source": [
        "s = input('문자열을 입력하세요')\n",
        "print(len(s))"
      ],
      "metadata": {
        "id": "ccTlt_hAFmTg"
      },
      "execution_count": null,
      "outputs": []
    },
    {
      "cell_type": "markdown",
      "source": [
        "* 이어서\n",
        " - 문자열 인덱싱(indexing): 문자열에서 특정한 값을 뽑아내는 기능  \n",
        "  1) 인덱스: 문자열에 포함된 각각의 문자에 매겨진 번호. <br>\n",
        "    정수이며 0부터 시작한다.  \n",
        "  2) 형식: 문자열[인덱스]  \n",
        "      word=\"python\"  \n",
        "      print(len(word))  \n",
        "      print(word[0]))  \n",
        "      print(word[2]))  \n",
        "      print(word[-1]))  # 오른쪽에서 왼쪽으로  \n",
        "        \n",
        " - 문자열 슬라이싱(slicing): 문자열에서 범위를 지정하여 원하는 요소를 선택하는 기능  \n",
        "   1) 형식: 문자열[인덱스 시작번호:인덱스 끝 번호]  \n",
        "   2) 기능: 인덱스 시작 번호부터 인덱스 끝 번호 바로 앞까지의 문자열을 가져오는 기능  \n",
        "   3) 범위의 끝 번호가 생략되면 시작번호부터 끝까지 추출   \n",
        "      word=\"Life is too short, You need Python\"  \n",
        "      print(word[0:4])    \n",
        "      print(word[:17])  #처음부터 17번째까지<br>\n",
        "      print(word[20:])  #인덱스20부터 끝까지"
      ],
      "metadata": {
        "id": "bJnU7ATG54Dw"
      }
    },
    {
      "cell_type": "markdown",
      "source": [
        "[실습4] 가상의 주민등록번호를 입력받아서 성별만 출력해주는 프로그램을 작성해 보자."
      ],
      "metadata": {
        "id": "fTvloS-YFoKu"
      }
    },
    {
      "cell_type": "code",
      "source": [
        "word=input('주민번호를 입력하세요 숫자만')\n",
        "print(word[6:7])"
      ],
      "metadata": {
        "id": "Q4FMx3pS5wIi"
      },
      "execution_count": null,
      "outputs": []
    },
    {
      "cell_type": "markdown",
      "source": [
        "[실습5] 아래와 같이 출력 되도록 코드를 완성하여라.<br>\n",
        "p y g <br>\n",
        "pyth <br>\n",
        "n pr"
      ],
      "metadata": {
        "id": "D7jdwiXRGMV2"
      }
    },
    {
      "cell_type": "code",
      "source": [
        "str=python programming\n",
        "print( )\n",
        "print( )\n",
        "print( )"
      ],
      "metadata": {
        "id": "xjpw1umaF-Qb",
        "colab": {
          "base_uri": "https://localhost:8080/",
          "height": 110
        },
        "outputId": "79567d7b-625b-4fde-e20e-901607489499"
      },
      "execution_count": null,
      "outputs": [
        {
          "output_type": "error",
          "ename": "SyntaxError",
          "evalue": "invalid syntax (<ipython-input-2-e62e32fa7edd>, line 1)",
          "traceback": [
            "\u001b[0;36m  File \u001b[0;32m\"<ipython-input-2-e62e32fa7edd>\"\u001b[0;36m, line \u001b[0;32m1\u001b[0m\n\u001b[0;31m    str=python programming\u001b[0m\n\u001b[0m               ^\u001b[0m\n\u001b[0;31mSyntaxError\u001b[0m\u001b[0;31m:\u001b[0m invalid syntax\n"
          ]
        }
      ]
    },
    {
      "cell_type": "markdown",
      "source": [
        "[실습6] 휴대폰 전화번호를 입력받아서 마지막 4개의 숫자를 출력해주는 프로그램을 작성해 보자."
      ],
      "metadata": {
        "id": "STw9iidlF39g"
      }
    },
    {
      "cell_type": "code",
      "source": [
        "word=input()\n",
        "print(word[-4:]) #오른쪽에서 4번째 부터, 왼쪽부터는 인덱스0, 오른쪽은 -1부터 시작"
      ],
      "metadata": {
        "id": "h1aw1ce0F4_z"
      },
      "execution_count": null,
      "outputs": []
    },
    {
      "cell_type": "markdown",
      "source": [
        "* 이어서\n",
        " - 문자열 포맷팅(Formatting):값의 변화가 있는 부분에 자료형에 맞는 문자열 포맷 코드를 넣고, 실제 값은 문자열 뒤 %다음에 써주면 포맷 코드 자리에 값이 대입<br>\n",
        "  1) 포맷코드: %s(문자열),%c(단일문자),%d(정수),%f(실수),%o(8진수)%x(16진수)\n"
      ],
      "metadata": {
        "id": "OzcRKevsHN6n"
      }
    },
    {
      "cell_type": "markdown",
      "source": [
        "[실습7] 아래 코드를 실행하기 전 출력값을 예상해 봅니다."
      ],
      "metadata": {
        "id": "qVOjt_uOOr4-"
      }
    },
    {
      "cell_type": "code",
      "source": [
        "print('오늘은 %d일입니다.'%13)\n",
        "print('오늘은 %s 입니다.' %'수요일')\n",
        "print('지금 온도는 %f도 입니다.' %32.7)\n",
        "print('지금 온도는 %0.2f도 입니다.' %32.7)\n",
        "print('파이썬\\n프로그래밍')\n",
        "print('''파이썬             #작은 따옴표 3개\n",
        "프로그래밍''')"
      ],
      "metadata": {
        "colab": {
          "base_uri": "https://localhost:8080/"
        },
        "id": "9zD3MCmVIz__",
        "outputId": "20242116-8f5a-414d-9d90-757138ce592f"
      },
      "execution_count": null,
      "outputs": [
        {
          "output_type": "stream",
          "name": "stdout",
          "text": [
            "오늘은 13일입니다.\n",
            "오늘은 수요일 입니다.\n",
            "지금 온도는 32.700000도 입니다.\n",
            "지금 온도는 32.70도 입니다.\n",
            "파이썬\n",
            "프로그래밍\n",
            "파이썬             #작은 따옴표 3개\n",
            "프로그래밍\n"
          ]
        }
      ]
    },
    {
      "cell_type": "markdown",
      "source": [
        "* 이어서\n",
        " - 문자열 내장함수(메소드):문자열 자료형이 자체적으로 가지고 있는 함수<br>\n",
        "  1) count(): 특정 문자 개수 <br>\n",
        "  2) join(): 문자열 삽입 <br>\n",
        "  3) find(): 찾는 문자열이 처음 나온 위치<br>\n",
        "  4) upper(): 소문자를 대문자로<br>\n",
        "  5) lower(): 대문자를 소문자로<br>\n",
        "  6) replace(): 문자열 내의 특정값을 다른 값으로<br>\n",
        "  7) split(): 공백 또는 특정 문자를 구분자로 문자열 분리\n"
      ],
      "metadata": {
        "id": "SOYAetwcPeHI"
      }
    },
    {
      "cell_type": "markdown",
      "source": [
        "[실습8] 주석 표시된 출력 조건에 따라 문자열 내장함수를 이용하여 코드를 완성합니다.\n"
      ],
      "metadata": {
        "id": "MISmmoobRzn1"
      }
    },
    {
      "cell_type": "code",
      "source": [
        "str='python programming'\n",
        "print()                  #p의 개수 힌트: str.\n",
        "print('/'.join(str))\n",
        "print()                  #str문자열 사이에 $ 삽입\n",
        "print()                  #처음 나온 m의 인덱스(위치)\n",
        "print()                  #PYTHON PROGRAMMING\n",
        "print()                  #Java programming\n",
        "print()                  #['python', 'programming']"
      ],
      "metadata": {
        "colab": {
          "base_uri": "https://localhost:8080/"
        },
        "id": "dZI7FfJTRwo7",
        "outputId": "b9b988a7-8979-4e1d-fbd2-8250bb082811"
      },
      "execution_count": null,
      "outputs": [
        {
          "output_type": "stream",
          "name": "stdout",
          "text": [
            "\n",
            "p/y/t/h/o/n/ /p/r/o/g/r/a/m/m/i/n/g\n",
            "\n",
            "\n",
            "\n",
            "\n",
            "\n"
          ]
        }
      ]
    },
    {
      "cell_type": "markdown",
      "source": [
        "* 연산자\n",
        "  - 산술연산자: +, -, *, /, //, %, ***\n",
        "  - 비교연산자(결과는 참, 거짓): >, >=, <, <=, ==, !=\n",
        "  - 논리연산자: and, or, not\n",
        "  - 복합대입연산자: +=, -=, *=, /=  (a+=5  vs a=a+5)\n",
        "  - 연산자 우선순위:() > ** > 부호(+,-) > *,/,//,% > +,- > 관계연산자> not > and > or"
      ],
      "metadata": {
        "id": "-7gyRJ0wrfwe"
      }
    },
    {
      "cell_type": "markdown",
      "source": [
        "[실습9] 산술 연산자를 모두 이용하여 임의의 두 수의 계산 결과를 출력하는 코드를 작성해 보자.  예: print(\"10+3=\", 10+3)  "
      ],
      "metadata": {
        "id": "nPN2JKzPBmTq"
      }
    },
    {
      "cell_type": "code",
      "source": [
        "print"
      ],
      "metadata": {
        "id": "Y062Vld_Xbo5"
      },
      "execution_count": null,
      "outputs": []
    },
    {
      "cell_type": "markdown",
      "source": [
        "[실습10] 반지름이 10인 원의 넓이를 출력하는 코드를 작성해 보자."
      ],
      "metadata": {
        "id": "jy6npZlF-Z39"
      }
    },
    {
      "cell_type": "code",
      "source": [
        "c=10\n",
        "e=3.14\n",
        "d=\n",
        "print()"
      ],
      "metadata": {
        "id": "_UNajK1TXeJL"
      },
      "execution_count": null,
      "outputs": []
    },
    {
      "cell_type": "markdown",
      "source": [
        "[실습11] 섭씨 온도를 입력받아서 화씨로 변환해주는 프로그램을 작성해 보자."
      ],
      "metadata": {
        "id": "io2H67HEYUSK"
      }
    },
    {
      "cell_type": "code",
      "source": [
        "a=float(input())\n",
        "b=a*1.8 + 32\n",
        "print(b)\n"
      ],
      "metadata": {
        "id": "7xp7ptquXx-m"
      },
      "execution_count": null,
      "outputs": []
    },
    {
      "cell_type": "markdown",
      "source": [
        "[실습12]다음을 실행하기 전 실행 결과를 예상해 보자"
      ],
      "metadata": {
        "id": "d_ZJdh3_bXDn"
      }
    },
    {
      "cell_type": "code",
      "source": [
        "print(10>=3, 10==3, 3%2==1,10<=3, 10!=3, 15*2==30)\n",
        "print(10>3 and 5==5,10%5==2 and 3<5 )\n",
        "print(10>3 and 5==5,10%5==2 or 3<5 )\n",
        "print(not 10%5==2,not 10>3 )"
      ],
      "metadata": {
        "colab": {
          "base_uri": "https://localhost:8080/"
        },
        "id": "jEI9zm63bk5V",
        "outputId": "dafde055-51f9-4180-a793-6629889f5df4"
      },
      "execution_count": null,
      "outputs": [
        {
          "output_type": "stream",
          "name": "stdout",
          "text": [
            "True False True False True True\n",
            "True False\n",
            "True True\n",
            "True False\n"
          ]
        }
      ]
    },
    {
      "cell_type": "code",
      "source": [],
      "metadata": {
        "id": "b9LotQMOudsH"
      },
      "execution_count": null,
      "outputs": []
    },
    {
      "cell_type": "markdown",
      "source": [
        "[실습13]복합 대입연산자를 이용하여 아래 코드를 수정해 보자.\n",
        "\n",
        "a=3 <br>\n",
        "a=a+10\n",
        "\n",
        "\n"
      ],
      "metadata": {
        "id": "L6RAHIMquKeS"
      }
    },
    {
      "cell_type": "code",
      "source": [],
      "metadata": {
        "id": "3KEXgRoEup7f"
      },
      "execution_count": null,
      "outputs": []
    }
  ]
}